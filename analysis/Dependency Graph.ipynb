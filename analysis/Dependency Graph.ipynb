{
 "cells": [
  {
   "cell_type": "code",
   "execution_count": 1,
   "id": "ae6031cc",
   "metadata": {},
   "outputs": [],
   "source": [
    "import json\n",
    "with open(\"../brew/data.json\", \"r\") as f:\n",
    "  data = json.load(f)"
   ]
  },
  {
   "cell_type": "code",
   "execution_count": null,
   "id": "c01a6262",
   "metadata": {},
   "outputs": [],
   "source": []
  },
  {
   "cell_type": "code",
   "execution_count": 2,
   "id": "a627c41f",
   "metadata": {},
   "outputs": [],
   "source": [
    "\n",
    "adj_map = {}\n",
    "for key, value in data.items():\n",
    "  adj_map[key] = value[\"dependencies\"]"
   ]
  },
  {
   "cell_type": "code",
   "execution_count": 3,
   "id": "05eee416",
   "metadata": {},
   "outputs": [],
   "source": [
    "import networkx as nx"
   ]
  },
  {
   "cell_type": "code",
   "execution_count": 4,
   "id": "7c333be6",
   "metadata": {},
   "outputs": [],
   "source": [
    "g = nx.DiGraph(adj_map)"
   ]
  },
  {
   "cell_type": "code",
   "execution_count": 6,
   "id": "b8cf7da3",
   "metadata": {},
   "outputs": [
    {
     "name": "stdout",
     "output_type": "stream",
     "text": [
      "Name: \n",
      "Type: DiGraph\n",
      "Number of nodes: 5862\n",
      "Number of edges: 7901\n",
      "Average in degree:   1.3478\n",
      "Average out degree:   1.3478\n"
     ]
    }
   ],
   "source": [
    "print(nx.info(g))"
   ]
  },
  {
   "cell_type": "code",
   "execution_count": 8,
   "id": "465358f7",
   "metadata": {},
   "outputs": [
    {
     "name": "stdout",
     "output_type": "stream",
     "text": [
      "Network density: 0.00022996647396750992\n"
     ]
    }
   ],
   "source": [
    "density = nx.density(g)\n",
    "print(\"Network density:\", density)"
   ]
  },
  {
   "cell_type": "code",
   "execution_count": 15,
   "id": "9d7c187e",
   "metadata": {},
   "outputs": [
    {
     "name": "stdout",
     "output_type": "stream",
     "text": [
      "5861 weakly connected graph\n"
     ]
    }
   ],
   "source": [
    "components = nx.strongly_connected_components(g)\n",
    "print(len([i for i in components]), \"weakly connected graph\")\n",
    "# largest_component = max(components, key=len)\n",
    "\n",
    "# # Create a \"subgraph\" of just the largest component\n",
    "# # Then calculate the diameter of the subgraph, just like you did with density.\n",
    "# #\n",
    "\n",
    "# subgraph = g.subgraph(largest_component)\n",
    "# # diameter = nx.diameter(subgraph)\n",
    "# # print(\"Network diameter of largest component:\", diameter)"
   ]
  },
  {
   "cell_type": "code",
   "execution_count": null,
   "id": "8a8d5d53",
   "metadata": {},
   "outputs": [],
   "source": []
  },
  {
   "cell_type": "code",
   "execution_count": null,
   "id": "8ee762dd",
   "metadata": {},
   "outputs": [],
   "source": []
  },
  {
   "cell_type": "code",
   "execution_count": null,
   "id": "d67a68e6",
   "metadata": {},
   "outputs": [],
   "source": []
  },
  {
   "cell_type": "code",
   "execution_count": 45,
   "id": "b2e9d8d0",
   "metadata": {},
   "outputs": [],
   "source": [
    "remove = [node for node,degree in dict(g.degree()).items() if degree == 0 or degree == 1]\n",
    "g.remove_nodes_from(remove)"
   ]
  },
  {
   "cell_type": "code",
   "execution_count": 46,
   "id": "cbe8665d",
   "metadata": {},
   "outputs": [
    {
     "name": "stdout",
     "output_type": "stream",
     "text": [
      "2066\n"
     ]
    }
   ],
   "source": [
    "print(len(g))"
   ]
  },
  {
   "cell_type": "code",
   "execution_count": 47,
   "id": "ca275c7d",
   "metadata": {},
   "outputs": [],
   "source": [
    "nx.write_gexf(g, \"test.gexf\")"
   ]
  },
  {
   "cell_type": "code",
   "execution_count": 49,
   "id": "566e9d17",
   "metadata": {},
   "outputs": [],
   "source": [
    "Gcc = sorted(nx.weakly_connected_components(g), key=len, reverse=True)\n",
    "G0 = g.subgraph(Gcc[0])"
   ]
  },
  {
   "cell_type": "code",
   "execution_count": 50,
   "id": "d927fe0b",
   "metadata": {},
   "outputs": [
    {
     "data": {
      "text/plain": [
       "<networkx.classes.digraph.DiGraph at 0x139d54100>"
      ]
     },
     "execution_count": 50,
     "metadata": {},
     "output_type": "execute_result"
    }
   ],
   "source": [
    "G0"
   ]
  },
  {
   "cell_type": "code",
   "execution_count": 51,
   "id": "cb1a69ae",
   "metadata": {},
   "outputs": [
    {
     "name": "stdout",
     "output_type": "stream",
     "text": [
      "2054\n"
     ]
    }
   ],
   "source": [
    "print(len(G0))"
   ]
  },
  {
   "cell_type": "code",
   "execution_count": 52,
   "id": "ba38e065",
   "metadata": {},
   "outputs": [],
   "source": [
    "nx.write_gexf(G0, \"largest_component_dependency.gexf\")"
   ]
  },
  {
   "cell_type": "code",
   "execution_count": null,
   "id": "b8a26de1",
   "metadata": {},
   "outputs": [],
   "source": []
  }
 ],
 "metadata": {
  "kernelspec": {
   "display_name": "Python 3",
   "language": "python",
   "name": "python3"
  },
  "language_info": {
   "codemirror_mode": {
    "name": "ipython",
    "version": 3
   },
   "file_extension": ".py",
   "mimetype": "text/x-python",
   "name": "python",
   "nbconvert_exporter": "python",
   "pygments_lexer": "ipython3",
   "version": "3.9.6"
  }
 },
 "nbformat": 4,
 "nbformat_minor": 5
}
